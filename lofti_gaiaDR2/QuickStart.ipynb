{
 "cells": [
  {
   "cell_type": "markdown",
   "metadata": {},
   "source": [
    "# LOFTI: Orbit Fitting of Wide Stellar Binaries with Gaia DR2# LOFTI: Orbit Fitting of Wide Stellar Binaries with Gaia DR2\n",
    "## Quick Start guide"
   ]
  },
  {
   "cell_type": "code",
   "execution_count": 1,
   "metadata": {},
   "outputs": [
    {
     "output_type": "error",
     "ename": "ModuleNotFoundError",
     "evalue": "No module named 'lofti_gaiaDR2'",
     "traceback": [
      "\u001b[0;31m---------------------------------------------------------------------------\u001b[0m",
      "\u001b[0;31mModuleNotFoundError\u001b[0m                       Traceback (most recent call last)",
      "\u001b[0;32m<ipython-input-1-6969510587ed>\u001b[0m in \u001b[0;36m<module>\u001b[0;34m\u001b[0m\n\u001b[1;32m      8\u001b[0m \u001b[0;34m\u001b[0m\u001b[0m\n\u001b[1;32m      9\u001b[0m \u001b[0;31m# Import the Fitter and FitOrbit objects:\u001b[0m\u001b[0;34m\u001b[0m\u001b[0;34m\u001b[0m\u001b[0;34m\u001b[0m\u001b[0m\n\u001b[0;32m---> 10\u001b[0;31m \u001b[0;32mfrom\u001b[0m \u001b[0mlofti_gaiaDR2\u001b[0m\u001b[0;34m.\u001b[0m\u001b[0mlofti\u001b[0m \u001b[0;32mimport\u001b[0m \u001b[0mFitter\u001b[0m\u001b[0;34m,\u001b[0m \u001b[0mFitOrbit\u001b[0m\u001b[0;34m\u001b[0m\u001b[0;34m\u001b[0m\u001b[0m\n\u001b[0m\u001b[1;32m     11\u001b[0m \u001b[0;34m\u001b[0m\u001b[0m\n\u001b[1;32m     12\u001b[0m \u001b[0;31m# Initialize the fitter object:\u001b[0m\u001b[0;34m\u001b[0m\u001b[0;34m\u001b[0m\u001b[0;34m\u001b[0m\u001b[0m\n",
      "\u001b[0;31mModuleNotFoundError\u001b[0m: No module named 'lofti_gaiaDR2'"
     ]
    }
   ],
   "source": [
    "# Gaia DR2 source ids:\n",
    "DSTucA = 6387058411482257536\n",
    "DSTucB = 6387058411482257280\n",
    "# Mass estimates, must be a tuple of (value,uncertainty)\n",
    "# in solar masses:\n",
    "massA = (0.97, 0.04)\n",
    "massB = (0.87, 0.04)\n",
    "\n",
    "# Import the Fitter and FitOrbit objects:\n",
    "from lofti_gaiaDR2.lofti import Fitter, FitOrbit\n",
    "\n",
    "# Initialize the fitter object:\n",
    "fitterobject = Fitter(DSTucA,           # source id object 1\n",
    "                      DSTucB,           # source id object 2\n",
    "                      massA,            # mass object 1\n",
    "                      massB,            # mass object 2\n",
    "                      Norbits = 50     # number of desired accepted orbits for the posterior orbit sample\n",
    "                     )\n",
    "\n",
    "# run orbit fit:\n",
    "orbits = FitOrbit(fitterobject)\n",
    "\n",
    "# get fit results:\n",
    "results = orbits.results\n"
   ]
  },
  {
   "cell_type": "code",
   "execution_count": null,
   "metadata": {},
   "outputs": [],
   "source": []
  }
 ],
 "metadata": {
  "language_info": {
   "codemirror_mode": {
    "name": "ipython",
    "version": 3
   },
   "file_extension": ".py",
   "mimetype": "text/x-python",
   "name": "python",
   "nbconvert_exporter": "python",
   "pygments_lexer": "ipython3",
   "version": 3
  },
  "orig_nbformat": 2,
  "kernelspec": {
   "name": "python_defaultSpec_1595360425273",
   "display_name": "Python 3.7.7 64-bit"
  }
 },
 "nbformat": 4,
 "nbformat_minor": 2
}