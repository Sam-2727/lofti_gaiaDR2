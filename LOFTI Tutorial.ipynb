{
 "cells": [
  {
   "cell_type": "markdown",
   "metadata": {},
   "source": [
    "# LOFTI: Orbit Fitting of Wide Stellar Binaries with Gaia"
   ]
  },
  {
   "cell_type": "markdown",
   "metadata": {},
   "source": [
    "The LOFTI-Gaia package will fit orbital elements to the astrometry provided by Gaia DR2 only.  \n",
    "<br>\n",
    "Written by Logan A. Pearce, 2019<br>\n",
    "If you use LOFTI in your work please cite Pearce et al. 2019"
   ]
  },
  {
   "cell_type": "markdown",
   "metadata": {},
   "source": [
    "## Fitting orbital parameters:"
   ]
  },
  {
   "cell_type": "markdown",
   "metadata": {},
   "source": [
    "#### Begin by importing the \"fitorbit\" module"
   ]
  },
  {
   "cell_type": "code",
   "execution_count": 1,
   "metadata": {},
   "outputs": [],
   "source": [
    "from lofti_gaia.lofti import fitorbit"
   ]
  },
  {
   "cell_type": "markdown",
   "metadata": {},
   "source": [
    "Let's look at the arguements and what it writes out"
   ]
  },
  {
   "cell_type": "code",
   "execution_count": 2,
   "metadata": {},
   "outputs": [
    {
     "name": "stdout",
     "output_type": "stream",
     "text": [
      "Help on function fitorbit in module lofti_gaia.lofti:\n",
      "\n",
      "fitorbit(source_id1, source_id2, mass1=0, mass2=0, d=2015.5, verbose=False, output_directory='', rank=0, accept_min=100000)\n",
      "    Fit orbital parameters to binary stars using only the RA/DEC positions and proper motions from\n",
      "    Gaia DR2 by inputting the source ids of the two objects and their masses only. \n",
      "    Writes accepted orbital parameters to a file.\n",
      "    \n",
      "    Parameters:\n",
      "    -----------\n",
      "    source_id1, source_id2 : int \n",
      "        Gaia DR2 source identifiers, found in the Gaia archive or Simbad.  Fit will be\n",
      "        of source_id2 relative to source_id1.\n",
      "    mass1, mass2 : tuple, flt [Msol]\n",
      "        masses of primary and secondary objects, entered as a tuple with the error.  For example:\n",
      "        mass1 = (1.0,0.2) is a 1 solar mass star with error of \\pm 0.2 solar masses.  If mass1 or mass2 = 0,\n",
      "        script will prompt user to input a tuple mass.  Default = 0.\n",
      "    d : flt [decimalyear]\n",
      "        observation date.  Default = 2015.5, the DR2 obs date.\n",
      "    verbose : bool\n",
      "        if set to True, script will print constraints to screen, ask for confrimation before proceeding,\n",
      "        and print regular updates on number of accepted orbits.  If set to False, script will print a progress bar \n",
      "        to screen.  Default = False.\n",
      "    output_name : str\n",
      "        directory to write output files to.  If verbose = True, script will prompt for directory, if \n",
      "        verbose = False it will write files to current directly unless the name argument is specified.\n",
      "    rank : int\n",
      "        if running in parallel processing mode, set this keyword to the rank of each process.  Else it is NA.\n",
      "    accept_min : int\n",
      "        when the number of accepted orbits reaches this number, script will terminate\n",
      "    \n",
      "    Returns:\n",
      "    --------\n",
      "    output file :\n",
      "        writes out accepted orbits to a file called name+rank+'_accepted'.  The columns of the file are:\n",
      "            semi-major axis [arcsec]\n",
      "            period [yrs]\n",
      "            epoch of periastron passage [decimalyear]\n",
      "            eccentricity\n",
      "            inclination [deg]\n",
      "            argument of periastron [deg]\n",
      "            position angle of nodes [deg]\n",
      "            chi-squared value of the orbit\n",
      "            probability of orbit generating observations\n",
      "            random uniform number to determine acceptance\n",
      "    \n",
      "    Notes:\n",
      "    ------\n",
      "    Future versions will adapt to new Gaia data releases and additional constraints.  See \n",
      "    Pearce et al. 2019 for more information, including a discussion of how to determine if\n",
      "    the Gaia DR2 solution is of adequate quality to provide meaningful and accurate constraints\n",
      "    for orbit fitting.\n",
      "    If you use this package, please cite Pearce et al. 2019.\n",
      "    \n",
      "    Written by Logan A. Pearce, 2019\n",
      "\n"
     ]
    }
   ],
   "source": [
    "help(fitorbit)"
   ]
  },
  {
   "cell_type": "markdown",
   "metadata": {},
   "source": [
    "## Example: DS Tuc AB:"
   ]
  },
  {
   "cell_type": "markdown",
   "metadata": {},
   "source": [
    "The first use of this technique was for DS Tuc AB, and published in Newton et al. 2019.  Both components have well-defined solutions in Gaia DR2, including radial velocities.  It makes a good demostration case.<br>\n",
    "Let's start by making a new directory to hold the output file"
   ]
  },
  {
   "cell_type": "code",
   "execution_count": 4,
   "metadata": {},
   "outputs": [
    {
     "data": {
      "text/plain": [
       "0"
      ]
     },
     "execution_count": 4,
     "metadata": {},
     "output_type": "execute_result"
    }
   ],
   "source": [
    "os.system('mkdir DSTucAB')"
   ]
  },
  {
   "cell_type": "markdown",
   "metadata": {},
   "source": [
    "All we need to give the fitter is the Gaia source ID numbers for the two components: "
   ]
  },
  {
   "cell_type": "code",
   "execution_count": 3,
   "metadata": {},
   "outputs": [],
   "source": [
    "DSTucA = 6387058411482257536\n",
    "DSTucB = 6387058411482257280"
   ]
  },
  {
   "cell_type": "markdown",
   "metadata": {},
   "source": [
    "and their masses (masses are from Newton et al. 2019).  fitorbit looks for the mass and its error to be entered as a tuple:"
   ]
  },
  {
   "cell_type": "code",
   "execution_count": 7,
   "metadata": {},
   "outputs": [],
   "source": [
    "massA = (0.97,0.04)\n",
    "massB = (0.87, 0.04)"
   ]
  },
  {
   "cell_type": "markdown",
   "metadata": {},
   "source": [
    "Run the fitter by calling fitorbit.  Let's tell it to output files to the directory we made, set a low minimum accepted orbit number for demonstration purposes, and set verbose to True.  When verbose is set to True, the fitter pauses and asks you to check that the constraints it will use look reasonable and like you expect them to, and makes sure it will write out the file where you are expecting to find it.  It will also print an update when it finds lower chi-squared values, and periodically prints the number of orbits it's found"
   ]
  },
  {
   "cell_type": "code",
   "execution_count": 4,
   "metadata": {},
   "outputs": [
    {
     "name": "stdout",
     "output_type": "stream",
     "text": [
      "Computing constraints.\n",
      "Created TAP+ (v1.0.1) - Connection:\n",
      "\tHost: gea.esac.esa.int\n",
      "\tUse HTTPS: False\n",
      "\tPort: 80\n",
      "\tSSL Port: 443\n",
      "Finished computing constraints:\n",
      "Delta RA, err in mas: -1146.6532236774597 0.01605802458987217\n",
      "Delta Dec, err in mas: 5240.634499193022 0.03157148853349037\n",
      "\n",
      "pmRA, err in km/s: -0.30173712008430653 0.02072372430621965\n",
      "pmDec, err in km/s: 0.3543703626789322 0.01214091283627853\n",
      "\n",
      "Total relative velocity [km/s]: 0.4654284516249185 +/- 0.02401821212368464\n",
      "Total relative velocity [mas/yr]: 2.2246301214145014 +/- 0.11376315413334326\n",
      "\n",
      "sep,err [mas] 5364.6121546478225 0.031080415113200057 pa,err [deg]: 347.65815379452033 0.00018144821297970512\n",
      "sep [AU] 236.76199960127585\n",
      "sep, err [km] (35419091003.025116, 0.0) (205204.03331534006, 0.0)\n",
      "D_star 44.1340385429632 +\\- 0.06336868730526682\n",
      "Delta Gmag -1.0800505\n",
      "\n",
      "Proceed? Hit enter to start the fit, n to exit\n",
      "Yeehaw let's go\n",
      "Chi-min: 5.219789689363101\n",
      "Ok, starting loop\n",
      "I will write files out to this directory: DSTucAB\n",
      "Is that right? Hit enter to proceed, n for no: \n",
      "Found new chi min:  3.6380431273954317\n",
      "Loop count rank  0 :  0\n",
      "Rank  0  has found  4 accepted orbits\n",
      "Found new chi min:  1.3752171156230582\n",
      "Loop count rank  0 :  10\n",
      "Rank  0  has found  10 accepted orbits\n",
      "Found new chi min:  0.7889456736954862\n",
      "Loop count rank  0 :  20\n",
      "Rank  0  has found  16 accepted orbits\n",
      "Loop count rank  0 :  30\n",
      "Rank  0  has found  22 accepted orbits\n",
      "Found new chi min:  0.6495358437788123\n",
      "Loop count rank  0 :  40\n",
      "Rank  0  has found  28 accepted orbits\n",
      "Loop count rank  0 :  50\n",
      "Rank  0  has found  32 accepted orbits\n",
      "Loop count rank  0 :  60\n",
      "Rank  0  has found  37 accepted orbits\n",
      "Loop count rank  0 :  70\n",
      "Rank  0  has found  42 accepted orbits\n",
      "Loop count rank  0 :  80\n",
      "Rank  0  has found  52 accepted orbits\n",
      "\n",
      "Found  52  orbits, finishing up...\n",
      "This operation took 38.40886402130127 seconds\n",
      "and 0.010669128894805908 hours\n"
     ]
    }
   ],
   "source": [
    "fitorbit(DSTucA, DSTucB, \n",
    "         mass1 = massA, \n",
    "         mass2 = massB, \n",
    "         output_directory = \"DSTucAB\",\n",
    "         verbose = True,\n",
    "         accept_min = 50\n",
    "        )"
   ]
  },
  {
   "cell_type": "markdown",
   "metadata": {},
   "source": [
    "Without verbose enabled, the print statements are supressed, and a progress bar reports the status of the fit."
   ]
  },
  {
   "cell_type": "code",
   "execution_count": 6,
   "metadata": {},
   "outputs": [
    {
     "name": "stdout",
     "output_type": "stream",
     "text": [
      "Computing constraints.\n",
      "Ok, starting loop\n"
     ]
    },
    {
     "name": "stderr",
     "output_type": "stream",
     "text": [
      " 89% (89 of 100) |####################   | Elapsed Time: 0:00:09 ETA:   0:00:01"
     ]
    },
    {
     "name": "stdout",
     "output_type": "stream",
     "text": [
      "\n",
      "Found  127  orbits, finishing up...\n",
      "This operation took 14.759562015533447 seconds\n",
      "and 0.00409987833764818 hours\n"
     ]
    }
   ],
   "source": [
    "fitorbit(DSTucA, DSTucB, \n",
    "         mass1 = massA, \n",
    "         mass2 = massB, \n",
    "         output_directory = \"DSTucAB\",\n",
    "         accept_min = 100\n",
    "        )"
   ]
  },
  {
   "cell_type": "markdown",
   "metadata": {},
   "source": [
    "If you forget to enter the masses, the script will prompt you to enter the mass and error with a space between them."
   ]
  },
  {
   "cell_type": "code",
   "execution_count": 9,
   "metadata": {},
   "outputs": [
    {
     "name": "stdout",
     "output_type": "stream",
     "text": [
      "Computing constraints.\n",
      "Enter mass of object 1 and error separated by a space (ex: 1.02 0.2):0.97 0.04\n",
      "Enter mass of object 2 and error separated by a space (ex: 1.02 0.2):0.87 0.04\n",
      "Ok, starting loop\n"
     ]
    },
    {
     "name": "stderr",
     "output_type": "stream",
     "text": [
      "100% (100 of 100) |######################| Elapsed Time: 0:00:48 ETA:  00:00:00"
     ]
    },
    {
     "name": "stdout",
     "output_type": "stream",
     "text": [
      "\n",
      "Found  112  orbits, finishing up...\n",
      "This operation took 53.49764394760132 seconds\n",
      "and 0.014860456652111477 hours\n"
     ]
    }
   ],
   "source": [
    "fitorbit(DSTucA, DSTucB, \n",
    "         output_directory = \"DSTucAB\",\n",
    "         accept_min = 100\n",
    "        )"
   ]
  },
  {
   "cell_type": "markdown",
   "metadata": {},
   "source": [
    "## Plotting the output"
   ]
  },
  {
   "cell_type": "code",
   "execution_count": null,
   "metadata": {},
   "outputs": [],
   "source": []
  }
 ],
 "metadata": {
  "kernelspec": {
   "display_name": "Python 3",
   "language": "python",
   "name": "python3"
  },
  "language_info": {
   "codemirror_mode": {
    "name": "ipython",
    "version": 3
   },
   "file_extension": ".py",
   "mimetype": "text/x-python",
   "name": "python",
   "nbconvert_exporter": "python",
   "pygments_lexer": "ipython3",
   "version": "3.7.0"
  }
 },
 "nbformat": 4,
 "nbformat_minor": 2
}
