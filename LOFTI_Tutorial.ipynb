{
 "cells": [
  {
   "cell_type": "markdown",
   "metadata": {},
   "source": [
    "# LOFTI: Orbit Fitting of Wide Stellar Binaries with Gaia"
   ]
  },
  {
   "cell_type": "markdown",
   "metadata": {},
   "source": [
    "The LOFTI-Gaia package will fit orbital elements to the astrometry provided by Gaia DR2 only.  \n",
    "<br>\n",
    "Written by Logan A. Pearce, 2019<br>\n",
    "If you use LOFTI in your work please cite Pearce et al. 2019"
   ]
  },
  {
   "cell_type": "markdown",
   "metadata": {},
   "source": [
    "## Fitting orbital parameters:"
   ]
  },
  {
   "cell_type": "markdown",
   "metadata": {},
   "source": [
    "#### Begin by importing the \"fitorbit\" module"
   ]
  },
  {
   "cell_type": "code",
   "execution_count": 1,
   "metadata": {},
   "outputs": [],
   "source": [
    "from lofti_gaia.lofti import fitorbit"
   ]
  },
  {
   "cell_type": "markdown",
   "metadata": {},
   "source": [
    "Let's look at the arguements and what it writes out"
   ]
  },
  {
   "cell_type": "code",
   "execution_count": 2,
   "metadata": {},
   "outputs": [
    {
     "name": "stdout",
     "output_type": "stream",
     "text": [
      "Help on function fitorbit in module lofti_gaia.lofti:\n",
      "\n",
      "fitorbit(source_id1, source_id2, mass1=0, mass2=0, d=2015.5, verbose=False, output_directory='.', rank=0, accept_min=10000)\n",
      "    Fit orbital parameters to binary stars using only the RA/DEC positions and proper motions from\n",
      "    Gaia DR2 by inputting the source ids of the two objects and their masses only. \n",
      "    Writes accepted orbital parameters to a file.\n",
      "    \n",
      "    Parameters:\n",
      "    -----------\n",
      "    source_id1, source_id2 : int \n",
      "        Gaia DR2 source identifiers, found in the Gaia archive or Simbad.  Fit will be\n",
      "        of source_id2 relative to source_id1.\n",
      "    mass1, mass2 : tuple, flt [Msol]\n",
      "        masses of primary and secondary objects, entered as a tuple with the error.  For example:\n",
      "        mass1 = (1.0,0.2) is a 1 solar mass star with error of \\pm 0.2 solar masses.  If mass1 or mass2 = 0,\n",
      "        script will prompt user to input a tuple mass.  Default = 0.\n",
      "    d : flt [decimalyear]\n",
      "        observation date.  Default = 2015.5, the DR2 obs date.\n",
      "    verbose : bool\n",
      "        if set to True, script will print constraints to screen, ask for confrimation before proceeding,\n",
      "        and print regular updates on number of accepted orbits.  If set to False, script will print a progress bar \n",
      "        to screen.  Default = False.\n",
      "    output_name : str\n",
      "        directory to write output files to.  If verbose = True, script will prompt for directory, if \n",
      "        verbose = False it will write files to current directly unless the name argument is specified.\n",
      "    rank : int\n",
      "        if running in parallel processing mode, set this keyword to the rank of each process.  Else it is NA.\n",
      "    accept_min : int\n",
      "        when the number of accepted orbits reaches this number, script will terminate\n",
      "    \n",
      "    Returns:\n",
      "    --------\n",
      "    output files :\n",
      "        writes out accepted orbits to a file called name+rank+'_accepted'.  The columns of the file are:\n",
      "            semi-major axis [arcsec]\n",
      "            period [yrs]\n",
      "            epoch of periastron passage [decimalyear]\n",
      "            eccentricity\n",
      "            inclination [deg]\n",
      "            argument of periastron [deg]\n",
      "            position angle of nodes [deg]\n",
      "            chi-squared value of the orbit\n",
      "            probability of orbit generating observations\n",
      "            random uniform number to determine acceptance\n",
      "        writes out a human-readable text file of the constraints it computed from Gaia data, called \"constraints.txt\".\n",
      "            deltaRA [mas]: relative RA separation\n",
      "            deltaDec [mas]: relative DEC separation\n",
      "            pmRA_kms [km/s]: relative proper motion in RA\n",
      "            pmDec_kms [km/s]: relative proper motion in DEC\n",
      "            deltarv [km/s]: relative radial velocity (if applicable)\n",
      "            total_pos_velocity [mas/yr]: total velocity vector in the plane of the sky\n",
      "            total_velocity_kms [km.s]: total velocity vector in the plane of the sky \n",
      "            rho [mas]: separation\n",
      "            pa [deg]: position angle\n",
      "            delta_mag [mag]: contrast in magnitudes\n",
      "            d_star [pc]: distance\n",
      "        writes out the above parameters to a machine readable file called \"constraints.pkl\"\n",
      "    \n",
      "    Notes:\n",
      "    ------\n",
      "    Future versions will adapt to new Gaia data releases and additional constraints.  See \n",
      "    Pearce et al. 2019 for more information, including a discussion of how to determine if\n",
      "    the Gaia DR2 solution is of adequate quality to provide meaningful and accurate constraints\n",
      "    for orbit fitting.\n",
      "    If you use this package, please cite Pearce et al. 2019.\n",
      "    \n",
      "    Written by Logan A. Pearce, 2019\n",
      "\n"
     ]
    }
   ],
   "source": [
    "help(fitorbit)"
   ]
  },
  {
   "cell_type": "markdown",
   "metadata": {},
   "source": [
    "## Example: DS Tuc AB:"
   ]
  },
  {
   "cell_type": "markdown",
   "metadata": {},
   "source": [
    "The first use of this technique was for DS Tuc AB, and published in Newton et al. 2019.  Both components have well-defined solutions in Gaia DR2, including radial velocities.  It makes a good demostration case.<br>\n",
    "Let's start by making a new directory to hold the output file"
   ]
  },
  {
   "cell_type": "code",
   "execution_count": 3,
   "metadata": {},
   "outputs": [
    {
     "data": {
      "text/plain": [
       "256"
      ]
     },
     "execution_count": 3,
     "metadata": {},
     "output_type": "execute_result"
    }
   ],
   "source": [
    "os.system('mkdir DSTucAB')"
   ]
  },
  {
   "cell_type": "markdown",
   "metadata": {},
   "source": [
    "All we need to give the fitter is the Gaia source ID numbers for the two components: "
   ]
  },
  {
   "cell_type": "code",
   "execution_count": 4,
   "metadata": {},
   "outputs": [],
   "source": [
    "DSTucA = 6387058411482257536\n",
    "DSTucB = 6387058411482257280"
   ]
  },
  {
   "cell_type": "markdown",
   "metadata": {},
   "source": [
    "and their masses (masses are from Newton et al. 2019).  fitorbit looks for the mass and its error to be entered as a tuple:"
   ]
  },
  {
   "cell_type": "code",
   "execution_count": 5,
   "metadata": {},
   "outputs": [],
   "source": [
    "massA = (0.97,0.04)\n",
    "massB = (0.87, 0.04)"
   ]
  },
  {
   "cell_type": "markdown",
   "metadata": {},
   "source": [
    "Run the fitter by calling fitorbit.  Let's tell it to output files to the directory we made, set a low minimum accepted orbit number for demonstration purposes, and set verbose to True.  When verbose is set to True, the fitter pauses and asks you to check that the constraints it will use look reasonable and like you expect them to, and makes sure it will write out the file where you are expecting to find it.  It will also print an update when it finds lower chi-squared values, and periodically prints the number of orbits it's found"
   ]
  },
  {
   "cell_type": "code",
   "execution_count": 6,
   "metadata": {},
   "outputs": [
    {
     "name": "stdout",
     "output_type": "stream",
     "text": [
      "Computing constraints.\n",
      "Created TAP+ (v1.0.1) - Connection:\n",
      "\tHost: gea.esac.esa.int\n",
      "\tUse HTTPS: False\n",
      "\tPort: 80\n",
      "\tSSL Port: 443\n",
      "Finished computing constraints:\n",
      "Delta RA, err in mas: -1146.6531115571179 0.015914032442077848\n",
      "Delta Dec, err in mas: 5240.634169821117 0.03132321306860027\n",
      "\n",
      "pmRA, err in km/s: -0.30173712008430653 0.02059592026680047\n",
      "pmDec, err in km/s: 0.3543703626789322 0.012171205850378666\n",
      "deltaRV, err im km/s (pos towards observer): 1.8793611665844168 0.7222733249905701\n",
      "\n",
      "Total relative velocity [km/s]: 1.9361358521672773 +/- 1.8795134276320105\n",
      "Total plane-of-sky relative velocity [mas/yr]: 2.2246301214145014 +/- 0.11376315413334326\n",
      "\n",
      "sep,err [mas] 5364.611808922288 0.030782922107068112 pa,err [deg]: 347.65815421242434 0.00018087678592866222\n",
      "sep [AU] 236.7619843430118\n",
      "sep, err [km] (35419088720.4213, 0.0) (203239.87792941494, 0.0)\n",
      "D_star 44.1340385429632 +\\- 0.06336868730526682\n",
      "Delta Gmag -1.0800505\n",
      "\n",
      "Does this look good? Hit enter to start the fit, n to exit\n",
      "Yeehaw let's go\n",
      "Chi-min: 11.56334261598355\n",
      "Ok, starting loop\n",
      "I will write files out to this directory: DSTucAB\n",
      "Is that right? Hit enter to proceed, n for no: \n",
      "I will be looking for  50  orbits.\n",
      "Ok? Hit enter to proceed, n for no: \n",
      "Found new chi min:  3.298175019792497\n",
      "Loop count rank  0 :  0\n",
      "Rank  0  has found  12 accepted orbits\n",
      "Found new chi min:  1.8097436072769046\n",
      "Found new chi min:  0.9433485180067218\n",
      "Loop count rank  0 :  10\n",
      "Rank  0  has found  11 accepted orbits\n",
      "Loop count rank  0 :  20\n",
      "Rank  0  has found  22 accepted orbits\n",
      "Found new chi min:  0.7043729230309588\n",
      "Loop count rank  0 :  30\n",
      "Rank  0  has found  29 accepted orbits\n",
      "Loop count rank  0 :  40\n",
      "Rank  0  has found  34 accepted orbits\n",
      "Loop count rank  0 :  50\n",
      "Rank  0  has found  40 accepted orbits\n",
      "Loop count rank  0 :  60\n",
      "Rank  0  has found  46 accepted orbits\n",
      "Found new chi min:  0.15922388514717503\n",
      "Loop count rank  0 :  70\n",
      "Rank  0  has found  42 accepted orbits\n",
      "Loop count rank  0 :  80\n",
      "Rank  0  has found  44 accepted orbits\n",
      "Loop count rank  0 :  90\n",
      "Rank  0  has found  51 accepted orbits\n",
      "\n",
      "Found  51  orbits, finishing up...\n",
      "This operation took 49.41786503791809 seconds\n",
      "and 0.013727184732755025 hours\n"
     ]
    }
   ],
   "source": [
    "fitorbit(DSTucA, DSTucB, \n",
    "         mass1 = massA, \n",
    "         mass2 = massB, \n",
    "         output_directory = \"DSTucAB\",\n",
    "         verbose = True,\n",
    "         accept_min = 50\n",
    "        )"
   ]
  },
  {
   "cell_type": "markdown",
   "metadata": {},
   "source": [
    "With verbose = False, the print statements are supressed, the script does not pause to check with the user before proceeding, and a progress bar reports the status of the fit."
   ]
  },
  {
   "cell_type": "code",
   "execution_count": 7,
   "metadata": {},
   "outputs": [
    {
     "name": "stdout",
     "output_type": "stream",
     "text": [
      "Computing constraints.\n",
      "Ok, starting loop\n"
     ]
    },
    {
     "name": "stderr",
     "output_type": "stream",
     "text": [
      " 88% (88 of 100) |####################   | Elapsed Time: 0:00:33 ETA:   0:00:07"
     ]
    },
    {
     "name": "stdout",
     "output_type": "stream",
     "text": [
      "\n",
      "Found  101  orbits, finishing up...\n",
      "This operation took 39.62535095214844 seconds\n",
      "and 0.011007041931152343 hours\n"
     ]
    }
   ],
   "source": [
    "from lofti_gaia.lofti import fitorbit\n",
    "\n",
    "DSTucA = 6387058411482257536\n",
    "DSTucB = 6387058411482257280\n",
    "massA = (0.97,0.04)\n",
    "massB = (0.87, 0.04)\n",
    "\n",
    "fitorbit(DSTucA, DSTucB, \n",
    "         mass1 = massA, \n",
    "         mass2 = massB, \n",
    "         output_directory = \"DSTucAB\",\n",
    "         accept_min = 100\n",
    "        )"
   ]
  },
  {
   "cell_type": "markdown",
   "metadata": {},
   "source": [
    "If you forget to enter the masses, the script will prompt you to enter the mass and error with a space between them."
   ]
  },
  {
   "cell_type": "code",
   "execution_count": 8,
   "metadata": {},
   "outputs": [
    {
     "name": "stdout",
     "output_type": "stream",
     "text": [
      "Computing constraints.\n",
      "Enter mass of object 1 and error separated by a space (ex: 1.02 0.2):0.97 0.04\n",
      "Enter mass of object 2 and error separated by a space (ex: 1.02 0.2):0.87 0.04\n",
      "Ok, starting loop\n"
     ]
    },
    {
     "name": "stderr",
     "output_type": "stream",
     "text": [
      " 79% (79 of 100) |##################     | Elapsed Time: 0:00:05 ETA:   0:00:01"
     ]
    },
    {
     "name": "stdout",
     "output_type": "stream",
     "text": [
      "\n",
      "Found  158  orbits, finishing up...\n",
      "This operation took 11.220418930053711 seconds\n",
      "and 0.0031167830361260307 hours\n"
     ]
    }
   ],
   "source": [
    "fitorbit(DSTucA, DSTucB, \n",
    "         output_directory = \"DSTucAB\",\n",
    "         accept_min = 100\n",
    "        )"
   ]
  },
  {
   "cell_type": "markdown",
   "metadata": {},
   "source": [
    "## Plotting the output"
   ]
  },
  {
   "cell_type": "markdown",
   "metadata": {},
   "source": [
    "lofti_gaia offers and optional setting of plotting tools to inspect the results of fitorbit, called lofti_gaia.lofti.makeplots."
   ]
  },
  {
   "cell_type": "code",
   "execution_count": 9,
   "metadata": {},
   "outputs": [
    {
     "name": "stdout",
     "output_type": "stream",
     "text": [
      "Help on function makeplots in module lofti_gaia.lofti:\n",
      "\n",
      "makeplots(input_directory, rank=0, Collect_into_one_file=False, limit=0.0, roll_w=False, plot_posteriors=True, plot_orbit_plane=True, plot_3d=True, axlim=6)\n",
      "    Produce plots and summary statistics for the output from lofti.fitorbit.\n",
      "    \n",
      "    Parameters:\n",
      "    -----------\n",
      "    input_directory : str\n",
      "        Gaia DR2 source identifiers, found in the Gaia archive or Simbad.  Fit will be\n",
      "        of source_id2 relative to source_id1.\n",
      "    rank : int\n",
      "        Set this parameter to iterate through processes if running on multiple threads\n",
      "    Collect_into_one_file : bool\n",
      "        Set to true if running on multiple process and the script did not terminate on its own.  This will\n",
      "        tell the script to collect output from each multiple process and put into one file.\n",
      "    limit : int [au]\n",
      "        Sometimes semi-major axis posteriors will have very long tails.  If you wish to truncate the sma histogram \n",
      "        at some value for clarity, set the limit parameter to that value.\n",
      "    roll_w : bool\n",
      "        I you wish to have arg of periastron wrap around zero, set this to True\n",
      "    plot_posteriors : bool\n",
      "        set to True to make posterior histogram plots of X, Y, Z, dotX, dotY, dotZ, ddotX, ddotY, ddotZ\n",
      "    plot_orbit_plane : bool\n",
      "        set to True to generate plot of 100 random orbits from the posterior in XY plane, XZ plane, and YZ plane\n",
      "    plot_3d: bool\n",
      "        set to True to generare a 3D plot of 20 random orbits from the posterior.\n",
      "    axlim: flt [arcsec]\n",
      "        if plot_orbits = True or plot_3d = True, set this parameter to set the axis limits (in arcsec) for the plots\n",
      "    \n",
      "    Returns:\n",
      "    --------\n",
      "    output files :\n",
      "        stats: summary statistics for each orbital parameter + periastron distance, including:\n",
      "            Mean    Std    Mode    68% Min Cred Int    95% Min Cred Int\n",
      "        hist.pdf: 1d histogram of orbital parameter posteriors\n",
      "        observable_posteriors (if plot_posteriors = True): directory containing 1d histograms of \n",
      "            posteriors for X, Y, Z, dotX, dotY, dotZ, ddotX, ddotY, ddotZ\n",
      "        orbits.png (if plot_orbits = True): plot of a selection of 100 random orbits from fitorbit posterior in \n",
      "            RA/DEC, colored by orbital phase\n",
      "        orbits_yz.png, orbits_xz.png (if plot_orbits = True): plots of the same 100 orbits in YZ and XZ planes\n",
      "        orbits_3d.png (if plot_3d = True): 3d plot of 20 random orbits from posterior\n",
      "    \n",
      "    Notes:\n",
      "    ------\n",
      "    These are suggested summary stats and plots.  For more versatility you can use\n",
      "    the fitorbit output with your own plotting scheme.\n",
      "    If you use this package, please cite Pearce et al. 2019.\n",
      "    \n",
      "    Written by Logan A. Pearce, 2019\n",
      "\n"
     ]
    }
   ],
   "source": [
    "from lofti_gaia.lofti import makeplots\n",
    "help(makeplots)"
   ]
  },
  {
   "cell_type": "code",
   "execution_count": 10,
   "metadata": {},
   "outputs": [
    {
     "name": "stdout",
     "output_type": "stream",
     "text": [
      "Writing out stats\n",
      "Making histograms\n",
      "Plotting observable posteriors\n",
      "Plotting orbits\n",
      "XY plane\n",
      "XZ plane\n",
      "YZ plane\n",
      "3D\n"
     ]
    }
   ],
   "source": [
    "directory = 'DSTucAB'\n",
    "makeplots(directory,\n",
    "                  rank = 0,\n",
    "                  Collect_into_one_file = False,\n",
    "                  limit = 0.,\n",
    "                  roll_w = False,\n",
    "                  plot_posteriors = True,\n",
    "                  plot_orbit_plane = True,\n",
    "                  plot_3d = True\n",
    "              )"
   ]
  },
  {
   "cell_type": "markdown",
   "metadata": {},
   "source": [
    "As with fitorbit, the output of this script is saved into the directory you set at the beginning.  Figures are saved as pngs.  Let's look at the figures this code generated:"
   ]
  },
  {
   "cell_type": "markdown",
   "metadata": {},
   "source": [
    "## hists.png:"
   ]
  },
  {
   "cell_type": "markdown",
   "metadata": {},
   "source": [
    "![hist.png](DSTucAB/hists.png)"
   ]
  },
  {
   "cell_type": "markdown",
   "metadata": {},
   "source": [
    "## orbits.png"
   ]
  },
  {
   "cell_type": "markdown",
   "metadata": {},
   "source": [
    "![title](DSTucAB/orbits.png)"
   ]
  },
  {
   "cell_type": "markdown",
   "metadata": {},
   "source": [
    "## orbits_3d.png"
   ]
  },
  {
   "cell_type": "markdown",
   "metadata": {},
   "source": [
    "![title](DSTucAB/orbits_3d.png)"
   ]
  },
  {
   "cell_type": "markdown",
   "metadata": {},
   "source": [
    "## One of the observables posteriors:\n",
    "This is the distribution of acceleration in RA from the orbits in the posterior sample:"
   ]
  },
  {
   "cell_type": "markdown",
   "metadata": {},
   "source": [
    "![title](DSTucAB/observable_posteriors/yddot.png)"
   ]
  },
  {
   "cell_type": "markdown",
   "metadata": {},
   "source": [
    "## stats.txt:\n",
    "The stats file looks like this inside (the parameters are already written in Latex math mode):"
   ]
  },
  {
   "cell_type": "markdown",
   "metadata": {},
   "source": [
    "Parameter    Mean    Std    Mode    68% Min Cred Int    95% Min Cred Int\n",
    "$a \\; (AU)$    440.273860033696    778.7828994666231    167.91369902260953    (120.78742643128001, 335.5722381365086)    (120.78742643128001, 1440.6607692140242)\n",
    "$e$    0.7363533729151298    0.25417521870515686    0.9354707541002492    (0.7079602799311652, 0.9944789694374682)    (0.11403236837364339, 0.9944789694374682)\n",
    "$ i \\; (deg)$    102.21552571902514    12.315962182778556    96.93037897540756    (93.85757612975858, 104.21407925155971)    (91.20949059969848, 129.6667081849308)\n",
    "$ \\omega \\; (deg)$    170.14767463219783    99.64182945955947    110.92869998371395    (13.407759062840405, 220.04147746284139)    (5.060697734275732, 336.04000373968086)\n",
    "$\\Omega \\; (deg)$    37.72898415688386    94.40123009172831    -29.405473241926238    (-45.72234936546789, 143.51214034948345)    (-119.84686434942489, 179.66687380258452)\n",
    "$T_0 \\; (yr)$    -5266.072718030055    41405.54729054067    1390.9519132615283    (-387.5345674226005, 1637.8029937252832)    (-13979.8862767336, 1939.049329542796)\n",
    "$a\\,(1-e) \\; (AU)$    109.41920890604749    219.0675705854163    26.869332294301532    (0.9391792185192334, 117.30940253868981)    (0.9391792185192334, 263.2353692706762)"
   ]
  },
  {
   "cell_type": "code",
   "execution_count": null,
   "metadata": {},
   "outputs": [],
   "source": []
  }
 ],
 "metadata": {
  "kernelspec": {
   "display_name": "Python 3",
   "language": "python",
   "name": "python3"
  },
  "language_info": {
   "codemirror_mode": {
    "name": "ipython",
    "version": 3
   },
   "file_extension": ".py",
   "mimetype": "text/x-python",
   "name": "python",
   "nbconvert_exporter": "python",
   "pygments_lexer": "ipython3",
   "version": "3.7.0"
  }
 },
 "nbformat": 4,
 "nbformat_minor": 2
}
